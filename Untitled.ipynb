{
 "cells": [
  {
   "cell_type": "code",
   "execution_count": null,
   "id": "00e2fbda-4896-43b3-bb95-1ee1c982fccc",
   "metadata": {},
   "outputs": [],
   "source": []
  }
 ],
 "metadata": {
  "kernelspec": {
   "display_name": "",
   "name": ""
  },
  "language_info": {
   "name": ""
  }
 },
 "nbformat": 4,
 "nbformat_minor": 5
}
